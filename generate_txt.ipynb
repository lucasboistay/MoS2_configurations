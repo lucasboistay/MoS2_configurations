{
 "cells": [
  {
   "cell_type": "code",
   "execution_count": 2,
   "id": "initial_id",
   "metadata": {
    "collapsed": true,
    "ExecuteTime": {
     "end_time": "2023-12-01T14:55:08.031513900Z",
     "start_time": "2023-12-01T14:55:01.380349100Z"
    }
   },
   "outputs": [],
   "source": [
    "from dscribe.descriptors import CoulombMatrix\n",
    "from ase.io import read\n",
    "import numpy as np\n",
    "\n",
    "def get_atoms_from_xyz(xyz_file_path):\n",
    "    # Read the atomic coordinates from the XYZ file\n",
    "    atoms = read(xyz_file_path, format='xyz', index=':')\n",
    "    return atoms\n",
    "\n",
    "def get_coulomb_matrix(atoms):\n",
    "    # Create a Coulomb matrix\n",
    "    cm = CoulombMatrix(n_atoms_max=len(MO2S4_atoms[0]), permutation=\"sorted_l2\")\n",
    "    coulomb_matrix = cm.create(atoms)\n",
    "    return coulomb_matrix\n",
    "\n",
    "def get_all_coulomb_matrices(atom_list):\n",
    "    X = []\n",
    "    for i in range(len(MO2S4_atoms)):\n",
    "        X.append(get_coulomb_matrix(MO2S4_atoms[i]))\n",
    "    X = np.array(X)\n",
    "    return X\n",
    "\n",
    "MO2S4_atoms = get_atoms_from_xyz('data/MO2S4/TRAJEC_short.xyz')\n",
    "X = get_all_coulomb_matrices(MO2S4_atoms)\n",
    "\n",
    "np.savetxt('data/txt/MO2S4.txt',X)"
   ]
  },
  {
   "cell_type": "markdown",
   "source": [
    "Second file needed to convert xyz files into txt because numpy versions are not compatible for dscribe and keras."
   ],
   "metadata": {
    "collapsed": false
   },
   "id": "d16bd46bc9c5ad4a"
  }
 ],
 "metadata": {
  "kernelspec": {
   "display_name": "Python 3",
   "language": "python",
   "name": "python3"
  },
  "language_info": {
   "codemirror_mode": {
    "name": "ipython",
    "version": 2
   },
   "file_extension": ".py",
   "mimetype": "text/x-python",
   "name": "python",
   "nbconvert_exporter": "python",
   "pygments_lexer": "ipython2",
   "version": "2.7.6"
  }
 },
 "nbformat": 4,
 "nbformat_minor": 5
}
