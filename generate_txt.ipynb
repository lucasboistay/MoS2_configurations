{
 "cells": [
  {
   "cell_type": "code",
   "execution_count": 11,
   "id": "initial_id",
   "metadata": {
    "collapsed": true,
    "ExecuteTime": {
     "end_time": "2023-12-14T13:43:54.086340700Z",
     "start_time": "2023-12-14T13:43:54.051302400Z"
    }
   },
   "outputs": [],
   "source": [
    "from dscribe.descriptors import CoulombMatrix\n",
    "from ase.io import read\n",
    "import numpy as np\n",
    "\n",
    "def get_atoms_from_xyz(xyz_file_path):\n",
    "    # Read the atomic coordinates from the XYZ file\n",
    "    atoms = read(xyz_file_path, format='xyz', index=':')\n",
    "    return atoms\n",
    "\n",
    "def get_coulomb_matrix(atoms):\n",
    "    # Create a Coulomb matrix\n",
    "    cm = CoulombMatrix(n_atoms_max=len(atoms), permutation=\"sorted_l2\")\n",
    "    coulomb_matrix = cm.create(atoms)\n",
    "    return coulomb_matrix\n",
    "\n",
    "def get_all_coulomb_matrices(atom_list):\n",
    "    X = []\n",
    "    for i in range(len(atom_list)):\n",
    "        X.append(get_coulomb_matrix(atom_list[i]))\n",
    "    X = np.array(X)\n",
    "    return X\n",
    "\n"
   ]
  },
  {
   "cell_type": "code",
   "execution_count": 12,
   "outputs": [
    {
     "name": "stdout",
     "output_type": "stream",
     "text": [
      "(11001, 36)\n"
     ]
    }
   ],
   "source": [
    "MO2S4_atoms = get_atoms_from_xyz('data/MO2S4/TRAJEC_short.xyz')\n",
    "X = get_all_coulomb_matrices(MO2S4_atoms)\n",
    "print(X.shape)\n",
    "np.savetxt('data/txt/MO2S4.txt',X)"
   ],
   "metadata": {
    "collapsed": false,
    "ExecuteTime": {
     "end_time": "2023-12-14T13:43:57.241255100Z",
     "start_time": "2023-12-14T13:43:54.592452200Z"
    }
   },
   "id": "c49a0cee8673013b"
  },
  {
   "cell_type": "code",
   "execution_count": 13,
   "outputs": [
    {
     "name": "stdout",
     "output_type": "stream",
     "text": [
      "(10000, 49)\n"
     ]
    }
   ],
   "source": [
    "zundel_atoms = get_atoms_from_xyz('data/zundel_ions/new_positions_sparse.xyz')\n",
    "X = get_all_coulomb_matrices(zundel_atoms)\n",
    "print(X.shape)\n",
    "np.savetxt('data/txt/zundel.txt',X)"
   ],
   "metadata": {
    "collapsed": false,
    "ExecuteTime": {
     "end_time": "2023-12-14T13:44:00.917202500Z",
     "start_time": "2023-12-14T13:43:58.295387100Z"
    }
   },
   "id": "8d4da9df93cac458"
  },
  {
   "cell_type": "markdown",
   "source": [
    "Second file needed to convert xyz files into txt because numpy versions are not compatible for dscribe and keras. Need numpy 1.21.6 for dscribe and the last version for keras."
   ],
   "metadata": {
    "collapsed": false
   },
   "id": "d16bd46bc9c5ad4a"
  }
 ],
 "metadata": {
  "kernelspec": {
   "display_name": "Python 3",
   "language": "python",
   "name": "python3"
  },
  "language_info": {
   "codemirror_mode": {
    "name": "ipython",
    "version": 2
   },
   "file_extension": ".py",
   "mimetype": "text/x-python",
   "name": "python",
   "nbconvert_exporter": "python",
   "pygments_lexer": "ipython2",
   "version": "2.7.6"
  }
 },
 "nbformat": 4,
 "nbformat_minor": 5
}
